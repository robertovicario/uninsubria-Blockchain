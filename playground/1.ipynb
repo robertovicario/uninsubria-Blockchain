{
 "cells": [
  {
   "cell_type": "markdown",
   "id": "38312b08",
   "metadata": {},
   "source": [
    "### Introduction to Blockchain"
   ]
  },
  {
   "cell_type": "code",
   "execution_count": null,
   "id": "358e3d01",
   "metadata": {},
   "outputs": [],
   "source": [
    "from time import localtime, strftime\n",
    "from typing import List\n",
    "\n",
    "import hashlib\n",
    "import json"
   ]
  },
  {
   "cell_type": "code",
   "execution_count": null,
   "id": "7ac9dca9",
   "metadata": {},
   "outputs": [],
   "source": [
    "class Transaction:\n",
    "    def __init__(self, sender: str, receiver: str, amount: float):\n",
    "        self.sender = sender\n",
    "        self.receiver = receiver\n",
    "        self.amount = amount\n",
    "\n",
    "    def __repr__(self):\n",
    "        return f'{self.sender} -> {self.receiver}: {self.amount}'\n",
    "\n",
    "class Block:\n",
    "    def __init__(self, transactions: List[Transaction], previous_hash: str):\n",
    "        self.timestamp = strftime('%Y-%m-%d %H:%M:%S', localtime())\n",
    "        self.transactions = transactions\n",
    "        self.previous_hash = previous_hash\n",
    "        self.hash = self.calculate_hash()\n",
    "\n",
    "    def calculate_hash(self):\n",
    "        tx_str = ''.join(str(tx) for tx in self.transactions)\n",
    "        block_string = f'{self.timestamp}{tx_str}{self.previous_hash}'\n",
    "        return hashlib.sha256(block_string.encode()).hexdigest()\n",
    "\n",
    "    def __repr__(self):\n",
    "        return json.dumps({\n",
    "            'hash': self.hash,\n",
    "            'previous_hash': self.previous_hash,\n",
    "            'transactions': [str(tx) for tx in self.transactions],\n",
    "            'timestamp': self.timestamp\n",
    "        }, indent=4)\n",
    "\n",
    "class Blockchain:\n",
    "    def __init__(self):\n",
    "        self.chain: List[Block] = [self.create_genesis_block()]\n",
    "        self.pending_transactions: List[Transaction] = []\n",
    "\n",
    "    def create_genesis_block(self):\n",
    "        return Block(transactions=[], previous_hash='0')\n",
    "\n",
    "    def get_latest_block(self):\n",
    "        return self.chain[-1]\n",
    "\n",
    "    def add_transaction(self, transaction: Transaction):\n",
    "        self.pending_transactions.append(transaction)\n",
    "\n",
    "    def mine_block(self):\n",
    "        if not self.pending_transactions:\n",
    "            return None\n",
    "\n",
    "        new_block = Block(\n",
    "            transactions=self.pending_transactions,\n",
    "            previous_hash=self.get_latest_block().hash\n",
    "        )\n",
    "        self.chain.append(new_block)\n",
    "        self.pending_transactions = []\n",
    "        return new_block\n",
    "\n",
    "    def is_chain_valid(self):\n",
    "        for i in range(1, len(self.chain)):\n",
    "            curr = self.chain[i]\n",
    "            prev = self.chain[i - 1]\n",
    "            if curr.hash != curr.calculate_hash():\n",
    "                return False\n",
    "            if curr.previous_hash != prev.hash:\n",
    "                return False\n",
    "        return True\n",
    "\n",
    "    def __repr__(self):\n",
    "        return '\\n'.join(str(block) for block in self.chain)"
   ]
  },
  {
   "cell_type": "code",
   "execution_count": null,
   "id": "b41771b4",
   "metadata": {},
   "outputs": [],
   "source": [
    "blockchain = Blockchain()\n",
    "print(f\"Blockchain: {blockchain}\")"
   ]
  },
  {
   "cell_type": "code",
   "execution_count": null,
   "id": "db983921",
   "metadata": {},
   "outputs": [],
   "source": [
    "blockchain.add_transaction(Transaction('Alice', 'Eve', 50))\n",
    "mined_block = blockchain.mine_block()\n",
    "print(f\"Blockchain: {blockchain}\")\n",
    "print('\\n# -------------------------\\n')\n",
    "print(f\"Mined Block 1: {mined_block}\")"
   ]
  },
  {
   "cell_type": "code",
   "execution_count": null,
   "id": "d0a72c14",
   "metadata": {},
   "outputs": [],
   "source": [
    "blockchain.add_transaction(Transaction('Bob', 'Alice', 25))\n",
    "mined_block = blockchain.mine_block()\n",
    "print(f\"Blockchain: {blockchain}\")\n",
    "print('\\n# -------------------------\\n')\n",
    "print(f\"Mined Block 2: {mined_block}\")"
   ]
  },
  {
   "cell_type": "code",
   "execution_count": null,
   "id": "7cc028a3",
   "metadata": {},
   "outputs": [],
   "source": [
    "print(f\"Validity: {blockchain.is_chain_valid()}\")\n",
    "print('\\n# -------------------------\\n')\n",
    "\n",
    "# -------------------------\n",
    "\n",
    "blockchain.chain[1].transactions[0].amount = 1000\n",
    "print(f\"Tampered Block 1: {blockchain.chain[1]}\")\n",
    "\n",
    "# -------------------------\n",
    "\n",
    "print('\\n# -------------------------\\n')\n",
    "print(f\"Validity: {blockchain.is_chain_valid()}\")"
   ]
  }
 ],
 "metadata": {
  "kernelspec": {
   "display_name": "base",
   "language": "python",
   "name": "python3"
  },
  "language_info": {
   "codemirror_mode": {
    "name": "ipython",
    "version": 3
   },
   "file_extension": ".py",
   "mimetype": "text/x-python",
   "name": "python",
   "nbconvert_exporter": "python",
   "pygments_lexer": "ipython3",
   "version": "3.11.5"
  }
 },
 "nbformat": 4,
 "nbformat_minor": 5
}
